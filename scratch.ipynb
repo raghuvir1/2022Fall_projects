{
 "cells": [
  {
   "cell_type": "markdown",
   "source": [
    "- add products (more scalable)\n",
    "    - user input: ask user to specify # ofproducts, expiry dates. perishable or non\n",
    "- change time frame\n",
    "    - issue with 7 days (update inventory function)\n",
    "-"
   ],
   "metadata": {
    "collapsed": false,
    "pycharm": {
     "name": "#%% md\n"
    }
   }
  },
  {
   "cell_type": "code",
   "execution_count": 4,
   "outputs": [],
   "source": [
    "import numpy as np"
   ],
   "metadata": {
    "collapsed": false,
    "pycharm": {
     "name": "#%%\n"
    }
   }
  },
  {
   "cell_type": "code",
   "execution_count": 5,
   "outputs": [],
   "source": [
    "def mod_pert_random(low, likely, high, confidence=4, samples=1):\n",
    "    \"\"\"Produce random numbers according to the 'Modified PERT' distribution.\n",
    "    :param low: The lowest value expected as possible.\n",
    "    :param likely: The 'most likely' value, statistically, the mode.\n",
    "    :param high: The highest value expected as possible.\n",
    "    :param confidence: This is typically called 'lambda' in literature\n",
    "                        about the Modified PERT distribution. The value\n",
    "                        4 here matches the standard PERT curve. Higher\n",
    "                        values indicate higher confidence in the mode.\n",
    "                        Currently allows values 1-18\n",
    "    :param samples: Number of samples\n",
    "    I got this function from Professor Weible's class examples :\n",
    "    https://github.com/iSchool-597PR/Examples_2021Fall/blob/main/week_07/Probability_Distributions.ipynb\n",
    "    \"\"\"\n",
    "    # Check for reasonable confidence levels to allow:\n",
    "    if confidence < 1 or confidence > 18:\n",
    "        raise ValueError('confidence value must be in range 1-18.')\n",
    "\n",
    "    mean1 = (low + confidence * likely + high) / (confidence + 2)\n",
    "\n",
    "    a = (mean1 - low) / (high - low) * (confidence + 2)\n",
    "    b = ((confidence + 1) * high - low - confidence * likely) / (high - low)\n",
    "\n",
    "    beta = np.random.beta(a, b, samples)\n",
    "    beta = beta * (high - low) + low\n",
    "    beta = [int(x) for x in beta]\n",
    "    return beta"
   ],
   "metadata": {
    "collapsed": false,
    "pycharm": {
     "name": "#%%\n"
    }
   }
  },
  {
   "cell_type": "code",
   "execution_count": 72,
   "outputs": [],
   "source": [
    "class Product:\n",
    "    def __init__(self, name, expiry_time, qty, demand_upper_bound, demand_lower_bound, storage_capacity, profit_margin, storage_cost_per_day, price_sold, restock_option, simulation_time):\n",
    "        # input parameters\n",
    "        self.name = name\n",
    "        self.expiry_time = expiry_time\n",
    "        self.qty = qty\n",
    "        self.storage_capacity = storage_capacity\n",
    "        self.profit_margin = profit_margin\n",
    "        self.storage_cost_per_day = storage_cost_per_day\n",
    "        self.price_sold = price_sold\n",
    "        self.demand_upper_bound = demand_upper_bound\n",
    "        self.demand_lower_bound = demand_lower_bound\n",
    "        self.simulation_time = simulation_time\n",
    "        self.restock_option = restock_option\n",
    "\n",
    "        # computation parameters\n",
    "        self.daily_demand_list = []\n",
    "        self.weekly_demand_dict = {}\n",
    "\n",
    "\n",
    "    # weeks in simualtion\n",
    "    def weeks_in_simulation_time(self):\n",
    "        self.num_weeks = self.simulation_time//7\n",
    "        return self.num_weeks\n",
    "\n",
    "\n",
    "    def weekly_storage_cost(self):\n",
    "        self.weekly_storage_cost = 7 * self.storage_cost_per_day\n",
    "        return self.weekly_storage_cost\n",
    "\n",
    "    # demand distribution for each product\n",
    "    def demand_distribution(self):\n",
    "        mean_demand_bound = round( ((self.demand_upper_bound + self.demand_lower_bound)/2),2)\n",
    "        daily_demand = (mod_pert_random(self.demand_lower_bound * self.qty, mean_demand_bound * self.qty, self.demand_upper_bound * self.qty, samples=self.simulation_time))\n",
    "        self.daily_demand_list.append(daily_demand)\n",
    "        return self.daily_demand_list\n",
    "\n",
    "    # defective items\n",
    "    def defective_items(self):\n",
    "        percent_of_defective = np.random.choice(list(range(5, 11)))                # Selects a random % value between 5 to 10\n",
    "        defective_items = (self.qty * percent_of_defective) // 100                     # Number of defective items during restock (5-10%)\n",
    "        return defective_items\n",
    "\n",
    "    def qty_after_restocking(self):\n",
    "        # restock weekly to full capacity\n",
    "        if self.restock_option == 1:\n",
    "            restock_date_list = []\n",
    "            for i in range(0, self.simulation_time, 7):\n",
    "                restock_date_list.append(i)\n",
    "                self.qty = self.storage_capacity\n",
    "\n",
    "        #restock weekly based on demand\n",
    "        if self.restock_option == 2:\n",
    "            weekly_dict = {}\n",
    "            daily_demand = []\n",
    "            day_count = 0\n",
    "            for i in range(self.num_weeks+1):\n",
    "                daily_demand = (self.demand_distribution()[0])[day_count:day_count+7]\n",
    "                # total demand, total weekly revenue, total proft, missed profit\n",
    "                weekly_dict[i] = sum(daily_demand), sum(daily_demand) * self.qty, sum(daily_demand) * self.qty * self.profit_margin * self.price_sold - self.weekly_storage_cost\n",
    "                day_count += 7\n",
    "\n",
    "\n",
    "k = Product('iphone', 0, 100, 0.25, 0.20, 1000, 0.8, 20, 50, 1, 10)\n"
   ],
   "metadata": {
    "collapsed": false,
    "pycharm": {
     "name": "#%%\n"
    }
   }
  },
  {
   "cell_type": "code",
   "execution_count": 96,
   "outputs": [
    {
     "name": "stdout",
     "output_type": "stream",
     "text": [
      "{0: ([21, 23, 21, 22, 22, 23, 22], 154, 100, -54, 2160.0), 1: ([23, 22, 22], 67, 100, 33, -1320.0)}\n"
     ]
    }
   ],
   "source": [
    "# weekly demand dictionary\n",
    "# def weekly_demand(self):\n",
    "#     for i in range(self.num_weeks):\n",
    "#         for j in range(self.daily_demand_list[0]):\n",
    "#             7_day_demand = (self.daily_demand_list[0])[j:j+7]\n",
    "#         self.weekly_demand_dict[i] = 7_day_demand\n",
    "#         j += 7\n",
    "#     return self.weekly_demand_dict\n",
    "\n",
    "dict = {}\n",
    "day_demand = []\n",
    "j = 0\n",
    "for i in range(2):\n",
    "    day_demand = (k.demand_distribution()[0])[j:j+7]\n",
    "    dict[i] = day_demand, sum(day_demand), k.qty, k.qty - sum(day_demand), k.price_sold*k.profit_margin*(k.qty)\n",
    "    j += 7\n",
    "\n",
    "print(dict)"
   ],
   "metadata": {
    "collapsed": false,
    "pycharm": {
     "name": "#%%\n"
    }
   }
  },
  {
   "cell_type": "code",
   "execution_count": 76,
   "outputs": [
    {
     "name": "stdout",
     "output_type": "stream",
     "text": [
      "[21, 23, 21, 22, 22, 23, 22, 23, 22, 22]\n"
     ]
    }
   ],
   "source": [
    "print(k.demand_distribution()[0])\n",
    "#print(p.defective_items())"
   ],
   "metadata": {
    "collapsed": false,
    "pycharm": {
     "name": "#%%\n"
    }
   }
  },
  {
   "cell_type": "code",
   "execution_count": 68,
   "outputs": [
    {
     "name": "stdout",
     "output_type": "stream",
     "text": [
      "21\n",
      "22\n",
      "22\n",
      "24\n",
      "23\n",
      "23\n",
      "21\n",
      "23\n",
      "21\n",
      "21\n"
     ]
    }
   ],
   "source": [
    "for i, j in enumerate(p.daily_demand_list[0]):\n",
    "    print(j)"
   ],
   "metadata": {
    "collapsed": false,
    "pycharm": {
     "name": "#%%\n"
    }
   }
  },
  {
   "cell_type": "code",
   "execution_count": 52,
   "outputs": [
    {
     "data": {
      "text/plain": "14"
     },
     "execution_count": 52,
     "metadata": {},
     "output_type": "execute_result"
    }
   ],
   "source": [
    "round(100//7)"
   ],
   "metadata": {
    "collapsed": false,
    "pycharm": {
     "name": "#%%\n"
    }
   }
  },
  {
   "cell_type": "code",
   "execution_count": null,
   "outputs": [],
   "source": [],
   "metadata": {
    "collapsed": false,
    "pycharm": {
     "name": "#%%\n"
    }
   }
  }
 ],
 "metadata": {
  "kernelspec": {
   "display_name": "Python 3",
   "language": "python",
   "name": "python3"
  },
  "language_info": {
   "codemirror_mode": {
    "name": "ipython",
    "version": 2
   },
   "file_extension": ".py",
   "mimetype": "text/x-python",
   "name": "python",
   "nbconvert_exporter": "python",
   "pygments_lexer": "ipython2",
   "version": "2.7.6"
  }
 },
 "nbformat": 4,
 "nbformat_minor": 0
}